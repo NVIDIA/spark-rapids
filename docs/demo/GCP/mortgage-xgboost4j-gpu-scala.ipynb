{
  "cells": [
    {
      "cell_type": "markdown",
      "metadata": {},
      "source": [
        "# Introduction to XGBoost Spark with GPU\n",
        "\n",
        "Mortgage is an example of xgboost classifier to do binary classification. This notebook will show you how to load data, train the xgboost model and use this model to predict if a mushroom is \"poisonous\". Camparing to original XGBoost Spark code, there're only one API difference.\n",
        "\n",
        "## Load libraries\n",
        "First load some common libraries will be used by both GPU version and CPU version xgboost."
      ]
    },
    {
      "cell_type": "code",
      "execution_count": 1,
      "metadata": {
        "autoscroll": "auto"
      },
      "outputs": [],
      "source": [
        "import ml.dmlc.xgboost4j.scala.spark.{XGBoostClassifier, XGBoostClassificationModel}\n",
        "import org.apache.spark.sql.SparkSession\n",
        "import org.apache.spark.ml.evaluation.MulticlassClassificationEvaluator\n",
        "import org.apache.spark.sql.types.{DoubleType, IntegerType, StructField, StructType}\n",
        "import org.apache.spark.SparkConf"
      ]
    },
    {
      "cell_type": "markdown",
      "metadata": {},
      "source": [
        "Besides CPU version requires some extra libraries, such as:\n",
        "\n",
        "```scala\n",
        "import org.apache.spark.ml.feature.VectorAssembler\n",
        "import org.apache.spark.sql.DataFrame\n",
        "import org.apache.spark.sql.functions._\n",
        "import org.apache.spark.sql.types.FloatType\n",
        "```"
      ]
    },
    {
      "cell_type": "code",
      "execution_count": 3,
      "metadata": {
        "autoscroll": "auto"
      },
      "outputs": [],
      "source": [
        "// Update all path with your Dataproc Environment\n",
        "val trainPath = \"gs://dataproc-nv-demo/mortgage_full/train/\"\n",
        "val evalPath  = \"gs://dataproc-nv-demo/mortgage_full/test/\"\n",
        "val transPath = \"gs://dataproc-nv-demo/mortgage_full/test/\"\n",
        "val modelPath = \"gs://dataproc-nv-demo/mortgage_full/model/mortgage\""
      ]
    },
    {
      "cell_type": "markdown",
      "metadata": {},
      "source": [
        "## Build the schema and parameters\n",
        "The mortgage data has 27 columns: 26 features and 1 label. \"deinquency_12\" is the label column. The schema will be used to load data in the future.\n",
        "\n",
        "The next block also defines some key parameters used in xgboost training process."
      ]
    },
    {
      "cell_type": "code",
      "execution_count": 5,
      "metadata": {
        "autoscroll": "auto"
      },
      "outputs": [],
      "source": [
        "val labelColName = \"delinquency_12\"\n",
        "val schema = StructType(List(\n",
        "  StructField(\"orig_channel\", DoubleType),\n",
        "  StructField(\"first_home_buyer\", DoubleType),\n",
        "  StructField(\"loan_purpose\", DoubleType),\n",
        "  StructField(\"property_type\", DoubleType),\n",
        "  StructField(\"occupancy_status\", DoubleType),\n",
        "  StructField(\"property_state\", DoubleType),\n",
        "  StructField(\"product_type\", DoubleType),\n",
        "  StructField(\"relocation_mortgage_indicator\", DoubleType),\n",
        "  StructField(\"seller_name\", DoubleType),\n",
        "  StructField(\"mod_flag\", DoubleType),\n",
        "  StructField(\"orig_interest_rate\", DoubleType),\n",
        "  StructField(\"orig_upb\", DoubleType),\n",
        "  StructField(\"orig_loan_term\", IntegerType),\n",
        "  StructField(\"orig_ltv\", DoubleType),\n",
        "  StructField(\"orig_cltv\", DoubleType),\n",
        "  StructField(\"num_borrowers\", DoubleType),\n",
        "  StructField(\"dti\", DoubleType),\n",
        "  StructField(\"borrower_credit_score\", DoubleType),\n",
        "  StructField(\"num_units\", IntegerType),\n",
        "  StructField(\"zip\", IntegerType),\n",
        "  StructField(\"mortgage_insurance_percent\", DoubleType),\n",
        "  StructField(\"current_loan_delinquency_status\", IntegerType),\n",
        "  StructField(\"current_actual_upb\", DoubleType),\n",
        "  StructField(\"interest_rate\", DoubleType),\n",
        "  StructField(\"loan_age\", DoubleType),\n",
        "  StructField(\"msa\", DoubleType),\n",
        "  StructField(\"non_interest_bearing_upb\", DoubleType),\n",
        "  StructField(labelColName, IntegerType)))\n",
        "\n",
        "val featureNames = schema.filter(_.name != labelColName).map(_.name).toArray"
      ]
    },
    {
      "cell_type": "markdown",
      "metadata": {},
      "source": [
        "## Create a new spark session and load data\n",
        "\n",
        "A new spark session should be created to continue all the following spark operations.\n",
        "\n",
        "NOTE: in this notebook, the dependency jars have been loaded when installing toree kernel. Alternatively the jars can be loaded into notebook by [%AddJar magic](https://toree.incubator.apache.org/docs/current/user/faq/). However, there's one restriction for `%AddJar`: the jar uploaded can only be available when `AddJar` is called just after a new spark session is created. Do it as below:\n",
        "\n",
        "```scala\n",
        "import org.apache.spark.sql.SparkSession\n",
        "val spark = SparkSession.builder().appName(\"mortgage-GPU\").getOrCreate\n",
        "%AddJar file:/data/libs/rapids-4-spark-XXX.jar\n",
        "%AddJar file:/data/libs/xgboost4j_3.0-XXX.jar\n",
        "%AddJar file:/data/libs/xgboost4j-spark_3.0-XXX.jar\n",
        "// ...\n",
        "```\n",
        "\n",
        "##### Please note the new jar \"rapids-4-spark-XXX.jar\" is only needed for GPU version, you can not add it to dependence list for CPU version."
      ]
    },
    {
      "cell_type": "code",
      "execution_count": 7,
      "metadata": {
        "autoscroll": "auto"
      },
      "outputs": [],
      "source": [
        "// Build the spark session and data reader as usual\n",
        "val conf = new SparkConf()\n",
        "conf.set(\"spark.executor.instances\", \"20\")\n",
        "conf.set(\"spark.executor.cores\", \"7\")\n",
        "conf.set(\"spark.task.cpus\", \"7\")\n",
        "conf.set(\"spark.executor.memory\", \"24g\")\n",
        "conf.set(\"spark.rapids.memory.pinnedPool.size\", \"2G\")\n",
        "conf.set(\"spark.executor.memoryOverhead\", \"16G\")\n",
        "conf.set(\"spark.executor.extraJavaOptions\", \"-Dai.rapids.cudf.prefer-pinned=true\")\n",
        "conf.set(\"spark.locality.wait\", \"0s\")\n",
        "conf.set(\"spark.sql.files.maxPartitionBytes\", \"512m\")\n",
        "conf.set(\"spark.executor.resource.gpu.amount\", \"1\")\n",
        "conf.set(\"spark.task.resource.gpu.amount\", \"1\")\n",
        "conf.set(\"spark.plugins\", \"com.nvidia.spark.SQLPlugin\")\n",
        "conf.set(\"spark.rapids.sql.hasNans\", \"false\")\n",
        "conf.set(\"spark.rapids.sql.batchSizeBytes\", \"512M\")\n",
        "conf.set(\"spark.rapids.sql.reader.batchSizeBytes\", \"768M\")\n",
        "conf.set(\"spark.rapids.memory.gpu.pooling.enabled\", \"false\")\n",
        "val spark = SparkSession.builder.appName(\"mortgage-gpu\")\n",
        "                               .enableHiveSupport()\n",
        "                               .config(conf)\n",
        "                               .getOrCreate\n",
        "val reader = spark.read"
      ]
    },
    {
      "cell_type": "code",
      "execution_count": 8,
      "metadata": {
        "autoscroll": "auto"
      },
      "outputs": [],
      "source": [
        "val trainSet = reader.parquet(trainPath)\n",
        "val evalSet  = reader.parquet(evalPath)\n",
        "val transSet = reader.parquet(transPath)"
      ]
    },
    {
      "cell_type": "markdown",
      "metadata": {},
      "source": [
        "## Set xgboost parameters and build a XGBoostClassifier\n",
        "\n",
        "For CPU version, `num_workers` is recommended being equal to the number of CPU cores, while for GPU version, it should be set to the number of GPUs in Spark cluster.\n",
        "\n",
        "Besides the `tree_method` for CPU version is also different from that for GPU version. Now only \"gpu_hist\" is supported for training on GPU.\n",
        "\n",
        "```scala\n",
        "// difference in parameters\n",
        "  \"num_workers\" -> 12,\n",
        "  \"tree_method\" -> \"hist\",\n",
        "```"
      ]
    },
    {
      "cell_type": "code",
      "execution_count": 10,
      "metadata": {
        "autoscroll": "auto"
      },
      "outputs": [],
      "source": [
        "val commParamMap = Map(\n",
        "  \"eta\" -> 0.1,\n",
        "  \"gamma\" -> 0.1,\n",
        "  \"missing\" -> 0.0,\n",
        "  \"max_depth\" -> 10,\n",
        "  \"max_leaves\" -> 256,\n",
        "  \"objective\" -> \"binary:logistic\",\n",
        "  \"grow_policy\" -> \"depthwise\",\n",
        "  \"min_child_weight\" -> 30,\n",
        "  \"lambda\" -> 1,\n",
        "  \"scale_pos_weight\" -> 2,\n",
        "  \"subsample\" -> 1,\n",
        "  \"num_round\" -> 100)\n",
        "  \n",
        "val xgbParamFinal = commParamMap ++ Map(\"tree_method\" -> \"gpu_hist\", \"num_workers\" -> 20, \"nthread\" -> 7)"
      ]
    },
    {
      "cell_type": "code",
      "execution_count": 12,
      "metadata": {
        "autoscroll": "auto"
      },
      "outputs": [],
      "source": [
        "val xgbClassifier = new XGBoostClassifier(xgbParamFinal)\n",
        "      .setLabelCol(labelColName)\n",
        "      .setFeaturesCol(featureNames)"
      ]
    },
    {
      "cell_type": "markdown",
      "metadata": {},
      "source": [
        "## Benchmark and train\n",
        "The object `benchmark` is used to compute the elapsed time of some operations.\n",
        "\n",
        "Training with evaluation sets is also supported in 2 ways, the same as CPU version's behavior:\n",
        "\n",
        "* Call API `setEvalSets` after initializing an XGBoostClassifier\n",
        "\n",
        "```scala\n",
        "xgbClassifier.setEvalSets(Map(\"eval\" -> evalSet))\n",
        "\n",
        "```\n",
        "\n",
        "* Use parameter `eval_sets` when initializing an XGBoostClassifier\n",
        "\n",
        "```scala\n",
        "val paramMapWithEval = paramMap + (\"eval_sets\" -> Map(\"eval\" -> evalSet))\n",
        "val xgbClassifierWithEval = new XGBoostClassifier(paramMapWithEval)\n",
        "```\n",
        "\n",
        "Here chooses the API way to set evaluation sets."
      ]
    },
    {
      "cell_type": "code",
      "execution_count": 14,
      "metadata": {
        "autoscroll": "auto"
      },
      "outputs": [],
      "source": [
        "xgbClassifier.setEvalSets(Map(\"eval\" -> evalSet))"
      ]
    },
    {
      "cell_type": "code",
      "execution_count": 15,
      "metadata": {
        "autoscroll": "auto"
      },
      "outputs": [],
      "source": [
        "def benchmark[R](phase: String)(block: => R): (R, Float) = {\n",
        "  val t0 = System.currentTimeMillis\n",
        "  val result = block // call-by-name\n",
        "  val t1 = System.currentTimeMillis\n",
        "  println(\"Elapsed time [\" + phase + \"]: \" + ((t1 - t0).toFloat / 1000) + \"s\")\n",
        "  (result, (t1 - t0).toFloat / 1000)\n",
        "}"
      ]
    },
    {
      "cell_type": "markdown",
      "metadata": {},
      "source": [
        "CPU version reqires an extra step before fitting data to classifier, using `VectorAssembler` to assemble all feature columns into one column. The following code snip shows how to do the vectorizing.\n",
        "\n",
        "```scala\n",
        "object Vectorize {\n",
        "  def apply(df: DataFrame, featureNames: Seq[String], labelName: String): DataFrame = {\n",
        "    val toFloat = df.schema.map(f => col(f.name).cast(FloatType))\n",
        "    new VectorAssembler()\n",
        "      .setInputCols(featureNames.toArray)\n",
        "      .setOutputCol(\"features\")\n",
        "      .transform(df.select(toFloat:_*))\n",
        "      .select(col(\"features\"), col(labelName))\n",
        "  }\n",
        "}\n",
        "\n",
        "trainSet = Vectorize(trainSet, featureCols, labelName)\n",
        "evalSet = Vectorize(evalSet, featureCols, labelName)\n",
        "transSet = Vectorize(transSet, featureCols, labelName)\n",
        "\n",
        "```\n",
        "\n",
        "`VectorAssembler` is not needed for GPU version. Just fit the loaded data directly to XGBoostClassifier."
      ]
    },
    {
      "cell_type": "code",
      "execution_count": 17,
      "metadata": {
        "autoscroll": "auto"
      },
      "outputs": [],
      "source": [
        "// Start training\n",
        "println(\"\\n------ Training ------\")\n",
        "val (xgbClassificationModel, _) = benchmark(\"train\") {\n",
        "  xgbClassifier.fit(trainSet)\n",
        "}"
      ]
    },
    {
      "cell_type": "markdown",
      "metadata": {},
      "source": [
        "## Transformation and evaluation\n",
        "Here uses `transSet` to evaluate our model and prints some useful columns to show our prediction result. After that `MulticlassClassificationEvaluator` is used to calculate an overall accuracy of our predictions."
      ]
    },
    {
      "cell_type": "code",
      "execution_count": 19,
      "metadata": {
        "autoscroll": "auto"
      },
      "outputs": [],
      "source": [
        "println(\"\\n------ Transforming ------\")\n",
        "val (results, _) = benchmark(\"transform\") {\n",
        "  val ret = xgbClassificationModel.transform(transSet).cache()\n",
        "  ret\n",
        "}\n",
        "z.show(results.select(\"orig_channel\", labelColName,\"rawPrediction\",\"probability\",\"prediction\").limit(10))\n",
        "\n",
        "println(\"\\n------Accuracy of Evaluation------\")\n",
        "val evaluator = new MulticlassClassificationEvaluator().setLabelCol(labelColName)\n",
        "val accuracy = evaluator.evaluate(results)\n",
        "println(accuracy)"
      ]
    },
    {
      "cell_type": "code",
      "execution_count": 20,
      "metadata": {
        "autoscroll": "auto"
      },
      "outputs": [],
      "source": [
        "xgbClassificationModel.write.overwrite.save(modelPath)\n",
        "\n",
        "val modelFromDisk = XGBoostClassificationModel.load(modelPath)\n",
        "\n",
        "val (results2, _) = benchmark(\"transform2\") {\n",
        "  modelFromDisk.transform(transSet)\n",
        "}\n",
        "z.show(results2.limit(5))"
      ]
    }
  ],
  "metadata": {
    "kernelspec": {
      "display_name": "scala",
      "language": "scala",
      "name": "spark2-scala"
    },
    "language_info": {
      "codemirror_mode": "text/x-scala",
      "file_extension": ".scala",
      "mimetype": "text/x-scala",
      "name": "scala",
      "pygments_lexer": "scala"
    },
    "name": "mortgage-gpu-scala"
  },
  "nbformat": 4,
  "nbformat_minor": 2
}
